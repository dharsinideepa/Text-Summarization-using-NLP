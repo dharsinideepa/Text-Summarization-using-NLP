{
 "cells": [
  {
   "cell_type": "markdown",
   "metadata": {
    "colab_type": "text",
    "id": "WYdMwvYn42jw"
   },
   "source": [
    "# **Text Summarization using NLP**\n",
    "\n",
    "\n",
    "**What is text summarization?**\n",
    "\n",
    "Text summarization is the process of distilling the most important information from a source text."
   ]
  },
  {
   "cell_type": "markdown",
   "metadata": {
    "colab_type": "text",
    "id": "QSmeHW7R6FEF"
   },
   "source": [
    "**Why automatic text summarization?**\n",
    "\n",
    "\n",
    "\n",
    "1.   Summaries reduce reading time.\n",
    "2.   When researching documents,summaries make the  selection process easier.\n",
    "3.   Automatic summarization improves the effectiveness of indexing.\n",
    "4.   Automatice summarization algorithms are less biased than human summarization.\n",
    "5.   Personalized summaries are useful in question-answering systems as they provied personalized information.\n",
    "6.   Using automatic or semi-automatic summarization systems enables commercial abstract services to increase the number of text documents they are able to process.\n",
    "\n",
    "\n",
    "\n"
   ]
  },
  {
   "cell_type": "markdown",
   "metadata": {
    "colab_type": "text",
    "id": "ZU31cjFg83hu"
   },
   "source": [
    "# **Type of summarization**\n"
   ]
  },
  {
   "cell_type": "markdown",
   "metadata": {
    "colab_type": "text",
    "id": "s9xxDWxC-1eM"
   },
   "source": [
    "\n",
    "\n",
    "**How to do text summarization**\n",
    "\n",
    "\n",
    "*   Text cleaning\n",
    "*   Sentence tokenization\n",
    "*   Word tokenzation\n",
    "*   Word-frequency table\n",
    "*   Summarization \n",
    " \n",
    " \n",
    "\n",
    "  **Text variable**\n",
    "\n",
    "\n",
    "\n",
    "\n",
    "\n",
    "\n"
   ]
  },
  {
   "cell_type": "markdown",
   "metadata": {
    "colab_type": "text",
    "id": "rOfW0xVd-tWw"
   },
   "source": []
  },
  {
   "cell_type": "code",
   "execution_count": 30,
   "metadata": {
    "colab": {},
    "colab_type": "code",
    "id": "2JqLo7pWYD1o"
   },
   "outputs": [],
   "source": [
    " text = \"\"\"\n",
    " Water, a cornerstone of life, holds unparalleled significance in sustaining ecosystems and supporting human existence.\n",
    " Constituting about 71% of the Earth's surface, water exists in oceans, rivers, lakes, and underground reservoirs. \n",
    " Despite its abundance, only a small fraction, roughly 2.5%, is freshwater, with the majority locked in glaciers or polar\n",
    " ice caps.The water cycle, an intricate dance of evaporation, condensation, and precipitation, governs the global movement \n",
    " of water. However, human activities, industrialization, and climate change pose formidable challenges. Water scarcity, \n",
    " pollution, and uneven distribution threaten communities worldwide. Climate change exacerbates these challenges, contributing \n",
    " to altered precipitation patterns, droughts, and more intense storms. Regions already grappling with water scarcity face \n",
    " increased risks, underscoring the urgent need for sustainable water management. Efforts to address water-related issues \n",
    " include advancements in water purification technologies, sustainable agricultural practices, and conservation initiatives. \n",
    " Promoting responsible water usage at individual and societal levels is crucial. Additionally, fostering international \n",
    " collaboration is paramount to ensure fair access to this vital resource. Education and awareness play pivotal roles \n",
    " in shaping a water-responsible society. Initiatives promoting water conservation, pollution control, and equitable \n",
    " distribution are imperative. As we navigate the complex interplay of environmental, social, and economic factors, a \n",
    " collective commitment to safeguarding water resources emerges as a linchpin for a sustainable and resilient future.\n",
    " \"\"\""
   ]
  },
  {
   "cell_type": "markdown",
   "metadata": {
    "colab_type": "text",
    "id": "ICuVSNbQY-dO"
   },
   "source": [
    "\n",
    "\n",
    "# Let's Get Started with SpaCy"
   ]
  },
  {
   "cell_type": "code",
   "execution_count": 31,
   "metadata": {
    "colab": {},
    "colab_type": "code",
    "id": "6Ehfk3s8ZL0b"
   },
   "outputs": [
    {
     "name": "stdout",
     "output_type": "stream",
     "text": [
      "Requirement already satisfied: spacy in c:\\users\\sridevideepa\\anaconda3new\\lib\\site-packages (3.7.2)\n",
      "Requirement already satisfied: spacy-legacy<3.1.0,>=3.0.11 in c:\\users\\sridevideepa\\anaconda3new\\lib\\site-packages (from spacy) (3.0.12)\n",
      "Requirement already satisfied: spacy-loggers<2.0.0,>=1.0.0 in c:\\users\\sridevideepa\\anaconda3new\\lib\\site-packages (from spacy) (1.0.5)\n",
      "Requirement already satisfied: murmurhash<1.1.0,>=0.28.0 in c:\\users\\sridevideepa\\anaconda3new\\lib\\site-packages (from spacy) (1.0.10)\n",
      "Requirement already satisfied: cymem<2.1.0,>=2.0.2 in c:\\users\\sridevideepa\\anaconda3new\\lib\\site-packages (from spacy) (2.0.8)\n",
      "Requirement already satisfied: preshed<3.1.0,>=3.0.2 in c:\\users\\sridevideepa\\anaconda3new\\lib\\site-packages (from spacy) (3.0.9)\n",
      "Requirement already satisfied: thinc<8.3.0,>=8.1.8 in c:\\users\\sridevideepa\\anaconda3new\\lib\\site-packages (from spacy) (8.2.2)\n",
      "Requirement already satisfied: wasabi<1.2.0,>=0.9.1 in c:\\users\\sridevideepa\\anaconda3new\\lib\\site-packages (from spacy) (1.1.2)\n",
      "Requirement already satisfied: srsly<3.0.0,>=2.4.3 in c:\\users\\sridevideepa\\anaconda3new\\lib\\site-packages (from spacy) (2.4.8)\n",
      "Requirement already satisfied: catalogue<2.1.0,>=2.0.6 in c:\\users\\sridevideepa\\anaconda3new\\lib\\site-packages (from spacy) (2.0.10)\n",
      "Requirement already satisfied: weasel<0.4.0,>=0.1.0 in c:\\users\\sridevideepa\\anaconda3new\\lib\\site-packages (from spacy) (0.3.4)\n",
      "Requirement already satisfied: typer<0.10.0,>=0.3.0 in c:\\users\\sridevideepa\\anaconda3new\\lib\\site-packages (from spacy) (0.9.0)\n",
      "Requirement already satisfied: smart-open<7.0.0,>=5.2.1 in c:\\users\\sridevideepa\\anaconda3new\\lib\\site-packages (from spacy) (5.2.1)\n",
      "Requirement already satisfied: tqdm<5.0.0,>=4.38.0 in c:\\users\\sridevideepa\\anaconda3new\\lib\\site-packages (from spacy) (4.65.0)\n",
      "Requirement already satisfied: requests<3.0.0,>=2.13.0 in c:\\users\\sridevideepa\\anaconda3new\\lib\\site-packages (from spacy) (2.29.0)\n",
      "Requirement already satisfied: pydantic!=1.8,!=1.8.1,<3.0.0,>=1.7.4 in c:\\users\\sridevideepa\\anaconda3new\\lib\\site-packages (from spacy) (2.5.3)\n",
      "Requirement already satisfied: jinja2 in c:\\users\\sridevideepa\\anaconda3new\\lib\\site-packages (from spacy) (3.1.2)\n",
      "Requirement already satisfied: setuptools in c:\\users\\sridevideepa\\anaconda3new\\lib\\site-packages (from spacy) (67.8.0)\n",
      "Requirement already satisfied: packaging>=20.0 in c:\\users\\sridevideepa\\anaconda3new\\lib\\site-packages (from spacy) (23.2)\n",
      "Requirement already satisfied: langcodes<4.0.0,>=3.2.0 in c:\\users\\sridevideepa\\anaconda3new\\lib\\site-packages (from spacy) (3.3.0)\n",
      "Requirement already satisfied: numpy>=1.19.0 in c:\\users\\sridevideepa\\anaconda3new\\lib\\site-packages (from spacy) (1.24.3)\n",
      "Requirement already satisfied: annotated-types>=0.4.0 in c:\\users\\sridevideepa\\anaconda3new\\lib\\site-packages (from pydantic!=1.8,!=1.8.1,<3.0.0,>=1.7.4->spacy) (0.6.0)\n",
      "Requirement already satisfied: pydantic-core==2.14.6 in c:\\users\\sridevideepa\\anaconda3new\\lib\\site-packages (from pydantic!=1.8,!=1.8.1,<3.0.0,>=1.7.4->spacy) (2.14.6)\n",
      "Requirement already satisfied: typing-extensions>=4.6.1 in c:\\users\\sridevideepa\\anaconda3new\\lib\\site-packages (from pydantic!=1.8,!=1.8.1,<3.0.0,>=1.7.4->spacy) (4.9.0)\n",
      "Requirement already satisfied: charset-normalizer<4,>=2 in c:\\users\\sridevideepa\\anaconda3new\\lib\\site-packages (from requests<3.0.0,>=2.13.0->spacy) (2.0.4)\n",
      "Requirement already satisfied: idna<4,>=2.5 in c:\\users\\sridevideepa\\anaconda3new\\lib\\site-packages (from requests<3.0.0,>=2.13.0->spacy) (3.4)\n",
      "Requirement already satisfied: urllib3<1.27,>=1.21.1 in c:\\users\\sridevideepa\\anaconda3new\\lib\\site-packages (from requests<3.0.0,>=2.13.0->spacy) (1.26.16)\n",
      "Requirement already satisfied: certifi>=2017.4.17 in c:\\users\\sridevideepa\\anaconda3new\\lib\\site-packages (from requests<3.0.0,>=2.13.0->spacy) (2023.5.7)\n",
      "Requirement already satisfied: blis<0.8.0,>=0.7.8 in c:\\users\\sridevideepa\\anaconda3new\\lib\\site-packages (from thinc<8.3.0,>=8.1.8->spacy) (0.7.11)\n",
      "Requirement already satisfied: confection<1.0.0,>=0.0.1 in c:\\users\\sridevideepa\\anaconda3new\\lib\\site-packages (from thinc<8.3.0,>=8.1.8->spacy) (0.1.4)\n",
      "Requirement already satisfied: colorama in c:\\users\\sridevideepa\\anaconda3new\\lib\\site-packages (from tqdm<5.0.0,>=4.38.0->spacy) (0.4.6)\n",
      "Requirement already satisfied: click<9.0.0,>=7.1.1 in c:\\users\\sridevideepa\\anaconda3new\\lib\\site-packages (from typer<0.10.0,>=0.3.0->spacy) (8.1.7)\n",
      "Requirement already satisfied: cloudpathlib<0.17.0,>=0.7.0 in c:\\users\\sridevideepa\\anaconda3new\\lib\\site-packages (from weasel<0.4.0,>=0.1.0->spacy) (0.16.0)\n",
      "Requirement already satisfied: MarkupSafe>=2.0 in c:\\users\\sridevideepa\\anaconda3new\\lib\\site-packages (from jinja2->spacy) (2.1.1)\n",
      "Collecting en-core-web-sm==3.7.1\n",
      "  Downloading https://github.com/explosion/spacy-models/releases/download/en_core_web_sm-3.7.1/en_core_web_sm-3.7.1-py3-none-any.whl (12.8 MB)\n",
      "                                              0.0/12.8 MB ? eta -:--:--\n",
      "                                              0.0/12.8 MB 1.3 MB/s eta 0:00:10\n",
      "                                             0.0/12.8 MB 393.8 kB/s eta 0:00:33\n",
      "                                             0.1/12.8 MB 819.2 kB/s eta 0:00:16\n",
      "                                             0.2/12.8 MB 893.0 kB/s eta 0:00:15\n",
      "                                             0.2/12.8 MB 981.9 kB/s eta 0:00:13\n",
      "                                              0.3/12.8 MB 1.2 MB/s eta 0:00:11\n",
      "     -                                        0.4/12.8 MB 1.2 MB/s eta 0:00:11\n",
      "     -                                        0.5/12.8 MB 1.3 MB/s eta 0:00:10\n",
      "     -                                        0.6/12.8 MB 1.3 MB/s eta 0:00:10\n",
      "     --                                       0.7/12.8 MB 1.4 MB/s eta 0:00:09\n",
      "     --                                       0.7/12.8 MB 1.5 MB/s eta 0:00:09\n",
      "     --                                       0.8/12.8 MB 1.5 MB/s eta 0:00:08\n",
      "     --                                       0.8/12.8 MB 1.5 MB/s eta 0:00:08\n",
      "     --                                       0.9/12.8 MB 1.4 MB/s eta 0:00:09\n",
      "     --                                       0.9/12.8 MB 1.4 MB/s eta 0:00:09\n",
      "     ---                                      1.0/12.8 MB 1.4 MB/s eta 0:00:09\n",
      "     ---                                      1.1/12.8 MB 1.4 MB/s eta 0:00:09\n",
      "     ---                                      1.2/12.8 MB 1.4 MB/s eta 0:00:09\n",
      "     ---                                      1.2/12.8 MB 1.4 MB/s eta 0:00:09\n",
      "     ----                                     1.4/12.8 MB 1.5 MB/s eta 0:00:08\n",
      "     ----                                     1.5/12.8 MB 1.5 MB/s eta 0:00:08\n",
      "     ----                                     1.5/12.8 MB 1.5 MB/s eta 0:00:08\n",
      "     -----                                    1.6/12.8 MB 1.5 MB/s eta 0:00:08\n",
      "     -----                                    1.8/12.8 MB 1.6 MB/s eta 0:00:07\n",
      "     -----                                    1.8/12.8 MB 1.6 MB/s eta 0:00:07\n",
      "     -----                                    1.9/12.8 MB 1.6 MB/s eta 0:00:07\n",
      "     ------                                   2.0/12.8 MB 1.6 MB/s eta 0:00:07\n",
      "     ------                                   2.1/12.8 MB 1.6 MB/s eta 0:00:07\n",
      "     ------                                   2.2/12.8 MB 1.7 MB/s eta 0:00:07\n",
      "     -------                                  2.4/12.8 MB 1.7 MB/s eta 0:00:07\n",
      "     -------                                  2.4/12.8 MB 1.7 MB/s eta 0:00:07\n",
      "     --------                                 2.6/12.8 MB 1.7 MB/s eta 0:00:06\n",
      "     --------                                 2.7/12.8 MB 1.8 MB/s eta 0:00:06\n",
      "     ---------                                2.9/12.8 MB 1.8 MB/s eta 0:00:06\n",
      "     ---------                                3.0/12.8 MB 1.8 MB/s eta 0:00:06\n",
      "     ----------                               3.2/12.8 MB 1.9 MB/s eta 0:00:06\n",
      "     ----------                               3.3/12.8 MB 1.9 MB/s eta 0:00:05\n",
      "     ----------                               3.4/12.8 MB 2.0 MB/s eta 0:00:05\n",
      "     -----------                              3.5/12.8 MB 1.9 MB/s eta 0:00:05\n",
      "     -----------                              3.6/12.8 MB 1.9 MB/s eta 0:00:05\n",
      "     -----------                              3.6/12.8 MB 1.9 MB/s eta 0:00:05\n",
      "     -----------                              3.6/12.8 MB 1.9 MB/s eta 0:00:05\n",
      "     -----------                              3.8/12.8 MB 1.9 MB/s eta 0:00:05\n",
      "     -----------                              3.8/12.8 MB 1.9 MB/s eta 0:00:05\n",
      "     ------------                             3.9/12.8 MB 1.9 MB/s eta 0:00:05\n",
      "     ------------                             3.9/12.8 MB 1.8 MB/s eta 0:00:05\n",
      "     ------------                             4.0/12.8 MB 1.8 MB/s eta 0:00:05\n",
      "     ------------                             4.0/12.8 MB 1.8 MB/s eta 0:00:05\n",
      "     ------------                             4.1/12.8 MB 1.8 MB/s eta 0:00:05\n",
      "     ------------                             4.1/12.8 MB 1.8 MB/s eta 0:00:05\n",
      "     -------------                            4.2/12.8 MB 1.8 MB/s eta 0:00:05\n",
      "     -------------                            4.2/12.8 MB 1.8 MB/s eta 0:00:05\n",
      "     -------------                            4.3/12.8 MB 1.7 MB/s eta 0:00:05\n",
      "     -------------                            4.3/12.8 MB 1.7 MB/s eta 0:00:05\n",
      "     -------------                            4.3/12.8 MB 1.7 MB/s eta 0:00:05\n",
      "     -------------                            4.3/12.8 MB 1.7 MB/s eta 0:00:05\n",
      "     -------------                            4.3/12.8 MB 1.7 MB/s eta 0:00:05\n",
      "     -------------                            4.3/12.8 MB 1.7 MB/s eta 0:00:05\n",
      "     --------------                           4.6/12.8 MB 1.7 MB/s eta 0:00:05\n",
      "     --------------                           4.7/12.8 MB 1.7 MB/s eta 0:00:05\n",
      "     --------------                           4.8/12.8 MB 1.7 MB/s eta 0:00:05\n",
      "     ---------------                          4.8/12.8 MB 1.7 MB/s eta 0:00:05\n",
      "     ---------------                          4.9/12.8 MB 1.7 MB/s eta 0:00:05\n",
      "     ---------------                          5.1/12.8 MB 1.7 MB/s eta 0:00:05\n",
      "     ----------------                         5.2/12.8 MB 1.7 MB/s eta 0:00:05\n",
      "     ----------------                         5.3/12.8 MB 1.7 MB/s eta 0:00:05\n",
      "     ----------------                         5.3/12.8 MB 1.7 MB/s eta 0:00:05\n",
      "     ----------------                         5.3/12.8 MB 1.7 MB/s eta 0:00:05\n",
      "     ----------------                         5.3/12.8 MB 1.7 MB/s eta 0:00:05\n",
      "     -----------------                        5.4/12.8 MB 1.7 MB/s eta 0:00:05\n",
      "     -----------------                        5.5/12.8 MB 1.7 MB/s eta 0:00:05\n",
      "     -----------------                        5.6/12.8 MB 1.7 MB/s eta 0:00:05\n",
      "     -----------------                        5.7/12.8 MB 1.7 MB/s eta 0:00:05\n",
      "     -----------------                        5.8/12.8 MB 1.7 MB/s eta 0:00:05\n",
      "     ------------------                       5.9/12.8 MB 1.7 MB/s eta 0:00:05\n",
      "     ------------------                       6.0/12.8 MB 1.7 MB/s eta 0:00:05\n",
      "     -------------------                      6.1/12.8 MB 1.7 MB/s eta 0:00:04\n",
      "     -------------------                      6.2/12.8 MB 1.7 MB/s eta 0:00:04\n",
      "     -------------------                      6.4/12.8 MB 1.7 MB/s eta 0:00:04\n",
      "     --------------------                     6.5/12.8 MB 1.7 MB/s eta 0:00:04\n",
      "     --------------------                     6.7/12.8 MB 1.8 MB/s eta 0:00:04\n",
      "     ---------------------                    6.8/12.8 MB 1.8 MB/s eta 0:00:04\n",
      "     ---------------------                    6.9/12.8 MB 1.8 MB/s eta 0:00:04\n",
      "     ---------------------                    6.9/12.8 MB 1.8 MB/s eta 0:00:04\n",
      "     ----------------------                   7.1/12.8 MB 1.8 MB/s eta 0:00:04\n",
      "     ----------------------                   7.2/12.8 MB 1.8 MB/s eta 0:00:04\n",
      "     ----------------------                   7.3/12.8 MB 1.8 MB/s eta 0:00:04\n",
      "     -----------------------                  7.4/12.8 MB 1.8 MB/s eta 0:00:03\n",
      "     -----------------------                  7.6/12.8 MB 1.8 MB/s eta 0:00:03\n",
      "     ------------------------                 7.7/12.8 MB 1.8 MB/s eta 0:00:03\n",
      "     ------------------------                 7.9/12.8 MB 1.9 MB/s eta 0:00:03\n",
      "     ------------------------                 8.0/12.8 MB 1.9 MB/s eta 0:00:03\n",
      "     -------------------------                8.1/12.8 MB 1.9 MB/s eta 0:00:03\n",
      "     -------------------------                8.2/12.8 MB 1.9 MB/s eta 0:00:03\n",
      "     -------------------------                8.2/12.8 MB 1.9 MB/s eta 0:00:03\n",
      "     -------------------------                8.2/12.8 MB 1.9 MB/s eta 0:00:03\n",
      "     -------------------------                8.2/12.8 MB 1.8 MB/s eta 0:00:03\n",
      "     -------------------------                8.3/12.8 MB 1.8 MB/s eta 0:00:03\n",
      "     -------------------------                8.3/12.8 MB 1.8 MB/s eta 0:00:03\n",
      "     -------------------------                8.3/12.8 MB 1.8 MB/s eta 0:00:03\n",
      "     --------------------------               8.6/12.8 MB 1.8 MB/s eta 0:00:03\n",
      "     ---------------------------              8.7/12.8 MB 1.8 MB/s eta 0:00:03\n",
      "     ---------------------------              8.7/12.8 MB 1.8 MB/s eta 0:00:03\n",
      "     ---------------------------              8.7/12.8 MB 1.8 MB/s eta 0:00:03\n",
      "     ---------------------------              8.8/12.8 MB 1.8 MB/s eta 0:00:03\n",
      "     ---------------------------              8.8/12.8 MB 1.8 MB/s eta 0:00:03\n",
      "     ---------------------------              8.9/12.8 MB 1.8 MB/s eta 0:00:03\n",
      "     ---------------------------              8.9/12.8 MB 1.8 MB/s eta 0:00:03\n",
      "     ---------------------------              8.9/12.8 MB 1.8 MB/s eta 0:00:03\n",
      "     ---------------------------              8.9/12.8 MB 1.8 MB/s eta 0:00:03\n",
      "     ---------------------------              8.9/12.8 MB 1.8 MB/s eta 0:00:03\n",
      "     ---------------------------              8.9/12.8 MB 1.8 MB/s eta 0:00:03\n",
      "     ---------------------------              8.9/12.8 MB 1.8 MB/s eta 0:00:03\n",
      "     ---------------------------              8.9/12.8 MB 1.8 MB/s eta 0:00:03\n",
      "     ---------------------------              8.9/12.8 MB 1.8 MB/s eta 0:00:03\n",
      "     ---------------------------              8.9/12.8 MB 1.8 MB/s eta 0:00:03\n",
      "     ----------------------------             9.1/12.8 MB 1.7 MB/s eta 0:00:03\n",
      "     ----------------------------             9.1/12.8 MB 1.7 MB/s eta 0:00:03\n",
      "     ----------------------------             9.1/12.8 MB 1.7 MB/s eta 0:00:03\n",
      "     ----------------------------             9.1/12.8 MB 1.7 MB/s eta 0:00:03\n",
      "     ----------------------------             9.1/12.8 MB 1.7 MB/s eta 0:00:03\n",
      "     ----------------------------             9.1/12.8 MB 1.7 MB/s eta 0:00:03\n",
      "     ----------------------------             9.1/12.8 MB 1.7 MB/s eta 0:00:03\n",
      "     ----------------------------             9.1/12.8 MB 1.7 MB/s eta 0:00:03\n",
      "     ----------------------------             9.1/12.8 MB 1.7 MB/s eta 0:00:03\n",
      "     ----------------------------             9.2/12.8 MB 1.6 MB/s eta 0:00:03\n",
      "     ----------------------------             9.3/12.8 MB 1.6 MB/s eta 0:00:03\n",
      "     ----------------------------             9.3/12.8 MB 1.6 MB/s eta 0:00:03\n",
      "     -----------------------------            9.4/12.8 MB 1.5 MB/s eta 0:00:03\n",
      "     -----------------------------            9.4/12.8 MB 1.5 MB/s eta 0:00:03\n",
      "     -----------------------------            9.4/12.8 MB 1.5 MB/s eta 0:00:03\n",
      "     -----------------------------            9.5/12.8 MB 1.5 MB/s eta 0:00:03\n",
      "     -----------------------------            9.6/12.8 MB 1.5 MB/s eta 0:00:03\n",
      "     ------------------------------           9.6/12.8 MB 1.5 MB/s eta 0:00:03\n",
      "     ------------------------------           9.6/12.8 MB 1.5 MB/s eta 0:00:03\n",
      "     ------------------------------           9.7/12.8 MB 1.5 MB/s eta 0:00:03\n",
      "     ------------------------------           9.7/12.8 MB 1.5 MB/s eta 0:00:03\n",
      "     ------------------------------           9.8/12.8 MB 1.5 MB/s eta 0:00:03\n",
      "     ------------------------------           9.8/12.8 MB 1.5 MB/s eta 0:00:02\n",
      "     ------------------------------           9.9/12.8 MB 1.5 MB/s eta 0:00:02\n",
      "     -------------------------------          10.0/12.8 MB 1.5 MB/s eta 0:00:02\n",
      "     -------------------------------          10.0/12.8 MB 1.5 MB/s eta 0:00:02\n",
      "     -------------------------------          10.1/12.8 MB 1.5 MB/s eta 0:00:02\n",
      "     -------------------------------          10.1/12.8 MB 1.5 MB/s eta 0:00:02\n",
      "     -------------------------------          10.2/12.8 MB 1.5 MB/s eta 0:00:02\n",
      "     -------------------------------          10.2/12.8 MB 1.5 MB/s eta 0:00:02\n",
      "     --------------------------------         10.3/12.8 MB 1.5 MB/s eta 0:00:02\n",
      "     --------------------------------         10.3/12.8 MB 1.5 MB/s eta 0:00:02\n",
      "     --------------------------------         10.3/12.8 MB 1.5 MB/s eta 0:00:02\n",
      "     --------------------------------         10.3/12.8 MB 1.5 MB/s eta 0:00:02\n",
      "     --------------------------------         10.4/12.8 MB 1.5 MB/s eta 0:00:02\n",
      "     --------------------------------         10.4/12.8 MB 1.5 MB/s eta 0:00:02\n",
      "     --------------------------------         10.5/12.8 MB 1.5 MB/s eta 0:00:02\n",
      "     --------------------------------         10.5/12.8 MB 1.5 MB/s eta 0:00:02\n",
      "     --------------------------------         10.5/12.8 MB 1.5 MB/s eta 0:00:02\n",
      "     ---------------------------------        10.6/12.8 MB 1.5 MB/s eta 0:00:02\n",
      "     ---------------------------------        10.6/12.8 MB 1.5 MB/s eta 0:00:02\n",
      "     ---------------------------------        10.6/12.8 MB 1.4 MB/s eta 0:00:02\n",
      "     ---------------------------------        10.7/12.8 MB 1.4 MB/s eta 0:00:02\n",
      "     ---------------------------------        10.7/12.8 MB 1.4 MB/s eta 0:00:02\n",
      "     ---------------------------------        10.7/12.8 MB 1.4 MB/s eta 0:00:02\n",
      "     ---------------------------------        10.8/12.8 MB 1.4 MB/s eta 0:00:02\n",
      "     ---------------------------------        10.8/12.8 MB 1.4 MB/s eta 0:00:02\n",
      "     ----------------------------------       10.9/12.8 MB 1.4 MB/s eta 0:00:02\n",
      "     ----------------------------------       11.0/12.8 MB 1.4 MB/s eta 0:00:02\n",
      "     ----------------------------------       11.0/12.8 MB 1.4 MB/s eta 0:00:02\n",
      "     ----------------------------------       11.0/12.8 MB 1.4 MB/s eta 0:00:02\n",
      "     ----------------------------------       11.0/12.8 MB 1.4 MB/s eta 0:00:02\n",
      "     ----------------------------------       11.1/12.8 MB 1.4 MB/s eta 0:00:02\n",
      "     ----------------------------------       11.1/12.8 MB 1.4 MB/s eta 0:00:02\n",
      "     ----------------------------------       11.2/12.8 MB 1.4 MB/s eta 0:00:02\n",
      "     ----------------------------------       11.2/12.8 MB 1.4 MB/s eta 0:00:02\n",
      "     -----------------------------------      11.2/12.8 MB 1.4 MB/s eta 0:00:02\n",
      "     -----------------------------------      11.2/12.8 MB 1.4 MB/s eta 0:00:02\n",
      "     -----------------------------------      11.3/12.8 MB 1.4 MB/s eta 0:00:02\n",
      "     -----------------------------------      11.3/12.8 MB 1.4 MB/s eta 0:00:02\n",
      "     -----------------------------------      11.3/12.8 MB 1.4 MB/s eta 0:00:02\n",
      "     -----------------------------------      11.3/12.8 MB 1.4 MB/s eta 0:00:02\n",
      "     -----------------------------------      11.4/12.8 MB 1.4 MB/s eta 0:00:02\n",
      "     -----------------------------------      11.5/12.8 MB 1.4 MB/s eta 0:00:01\n",
      "     -----------------------------------      11.5/12.8 MB 1.3 MB/s eta 0:00:01\n",
      "     ------------------------------------     11.6/12.8 MB 1.3 MB/s eta 0:00:01\n",
      "     ------------------------------------     11.7/12.8 MB 1.3 MB/s eta 0:00:01\n",
      "     ------------------------------------     11.7/12.8 MB 1.3 MB/s eta 0:00:01\n",
      "     ------------------------------------     11.8/12.8 MB 1.3 MB/s eta 0:00:01\n",
      "     -------------------------------------    11.9/12.8 MB 1.3 MB/s eta 0:00:01\n",
      "     -------------------------------------    11.9/12.8 MB 1.3 MB/s eta 0:00:01\n",
      "     -------------------------------------    12.0/12.8 MB 1.3 MB/s eta 0:00:01\n",
      "     -------------------------------------    12.1/12.8 MB 1.3 MB/s eta 0:00:01\n",
      "     -------------------------------------    12.1/12.8 MB 1.3 MB/s eta 0:00:01\n",
      "     -------------------------------------    12.1/12.8 MB 1.3 MB/s eta 0:00:01\n",
      "     --------------------------------------   12.2/12.8 MB 1.3 MB/s eta 0:00:01\n",
      "     --------------------------------------   12.2/12.8 MB 1.3 MB/s eta 0:00:01\n",
      "     --------------------------------------   12.3/12.8 MB 1.3 MB/s eta 0:00:01\n",
      "     --------------------------------------   12.4/12.8 MB 1.3 MB/s eta 0:00:01\n",
      "     --------------------------------------   12.4/12.8 MB 1.3 MB/s eta 0:00:01\n",
      "     ---------------------------------------  12.5/12.8 MB 1.3 MB/s eta 0:00:01\n",
      "     ---------------------------------------  12.5/12.8 MB 1.3 MB/s eta 0:00:01\n",
      "     ---------------------------------------  12.6/12.8 MB 1.3 MB/s eta 0:00:01\n",
      "     ---------------------------------------  12.6/12.8 MB 1.3 MB/s eta 0:00:01\n",
      "     ---------------------------------------  12.7/12.8 MB 1.3 MB/s eta 0:00:01\n",
      "     ---------------------------------------  12.7/12.8 MB 1.3 MB/s eta 0:00:01\n",
      "     ---------------------------------------  12.8/12.8 MB 1.3 MB/s eta 0:00:01\n",
      "     ---------------------------------------  12.8/12.8 MB 1.3 MB/s eta 0:00:01\n",
      "     ---------------------------------------  12.8/12.8 MB 1.3 MB/s eta 0:00:01\n",
      "     ---------------------------------------  12.8/12.8 MB 1.2 MB/s eta 0:00:01\n",
      "     ---------------------------------------- 12.8/12.8 MB 1.2 MB/s eta 0:00:00\n",
      "Requirement already satisfied: spacy<3.8.0,>=3.7.2 in c:\\users\\sridevideepa\\anaconda3new\\lib\\site-packages (from en-core-web-sm==3.7.1) (3.7.2)\n",
      "Requirement already satisfied: spacy-legacy<3.1.0,>=3.0.11 in c:\\users\\sridevideepa\\anaconda3new\\lib\\site-packages (from spacy<3.8.0,>=3.7.2->en-core-web-sm==3.7.1) (3.0.12)\n",
      "Requirement already satisfied: spacy-loggers<2.0.0,>=1.0.0 in c:\\users\\sridevideepa\\anaconda3new\\lib\\site-packages (from spacy<3.8.0,>=3.7.2->en-core-web-sm==3.7.1) (1.0.5)\n",
      "Requirement already satisfied: murmurhash<1.1.0,>=0.28.0 in c:\\users\\sridevideepa\\anaconda3new\\lib\\site-packages (from spacy<3.8.0,>=3.7.2->en-core-web-sm==3.7.1) (1.0.10)\n",
      "Requirement already satisfied: cymem<2.1.0,>=2.0.2 in c:\\users\\sridevideepa\\anaconda3new\\lib\\site-packages (from spacy<3.8.0,>=3.7.2->en-core-web-sm==3.7.1) (2.0.8)\n",
      "Requirement already satisfied: preshed<3.1.0,>=3.0.2 in c:\\users\\sridevideepa\\anaconda3new\\lib\\site-packages (from spacy<3.8.0,>=3.7.2->en-core-web-sm==3.7.1) (3.0.9)\n",
      "Requirement already satisfied: thinc<8.3.0,>=8.1.8 in c:\\users\\sridevideepa\\anaconda3new\\lib\\site-packages (from spacy<3.8.0,>=3.7.2->en-core-web-sm==3.7.1) (8.2.2)\n",
      "Requirement already satisfied: wasabi<1.2.0,>=0.9.1 in c:\\users\\sridevideepa\\anaconda3new\\lib\\site-packages (from spacy<3.8.0,>=3.7.2->en-core-web-sm==3.7.1) (1.1.2)\n",
      "Requirement already satisfied: srsly<3.0.0,>=2.4.3 in c:\\users\\sridevideepa\\anaconda3new\\lib\\site-packages (from spacy<3.8.0,>=3.7.2->en-core-web-sm==3.7.1) (2.4.8)\n",
      "Requirement already satisfied: catalogue<2.1.0,>=2.0.6 in c:\\users\\sridevideepa\\anaconda3new\\lib\\site-packages (from spacy<3.8.0,>=3.7.2->en-core-web-sm==3.7.1) (2.0.10)\n",
      "Requirement already satisfied: weasel<0.4.0,>=0.1.0 in c:\\users\\sridevideepa\\anaconda3new\\lib\\site-packages (from spacy<3.8.0,>=3.7.2->en-core-web-sm==3.7.1) (0.3.4)\n",
      "Requirement already satisfied: typer<0.10.0,>=0.3.0 in c:\\users\\sridevideepa\\anaconda3new\\lib\\site-packages (from spacy<3.8.0,>=3.7.2->en-core-web-sm==3.7.1) (0.9.0)\n",
      "Requirement already satisfied: smart-open<7.0.0,>=5.2.1 in c:\\users\\sridevideepa\\anaconda3new\\lib\\site-packages (from spacy<3.8.0,>=3.7.2->en-core-web-sm==3.7.1) (5.2.1)\n",
      "Requirement already satisfied: tqdm<5.0.0,>=4.38.0 in c:\\users\\sridevideepa\\anaconda3new\\lib\\site-packages (from spacy<3.8.0,>=3.7.2->en-core-web-sm==3.7.1) (4.65.0)\n",
      "Requirement already satisfied: requests<3.0.0,>=2.13.0 in c:\\users\\sridevideepa\\anaconda3new\\lib\\site-packages (from spacy<3.8.0,>=3.7.2->en-core-web-sm==3.7.1) (2.29.0)\n",
      "Requirement already satisfied: pydantic!=1.8,!=1.8.1,<3.0.0,>=1.7.4 in c:\\users\\sridevideepa\\anaconda3new\\lib\\site-packages (from spacy<3.8.0,>=3.7.2->en-core-web-sm==3.7.1) (2.5.3)\n",
      "Requirement already satisfied: jinja2 in c:\\users\\sridevideepa\\anaconda3new\\lib\\site-packages (from spacy<3.8.0,>=3.7.2->en-core-web-sm==3.7.1) (3.1.2)\n",
      "Requirement already satisfied: setuptools in c:\\users\\sridevideepa\\anaconda3new\\lib\\site-packages (from spacy<3.8.0,>=3.7.2->en-core-web-sm==3.7.1) (67.8.0)\n",
      "Requirement already satisfied: packaging>=20.0 in c:\\users\\sridevideepa\\anaconda3new\\lib\\site-packages (from spacy<3.8.0,>=3.7.2->en-core-web-sm==3.7.1) (23.2)\n",
      "Requirement already satisfied: langcodes<4.0.0,>=3.2.0 in c:\\users\\sridevideepa\\anaconda3new\\lib\\site-packages (from spacy<3.8.0,>=3.7.2->en-core-web-sm==3.7.1) (3.3.0)\n",
      "Requirement already satisfied: numpy>=1.19.0 in c:\\users\\sridevideepa\\anaconda3new\\lib\\site-packages (from spacy<3.8.0,>=3.7.2->en-core-web-sm==3.7.1) (1.24.3)\n",
      "Requirement already satisfied: annotated-types>=0.4.0 in c:\\users\\sridevideepa\\anaconda3new\\lib\\site-packages (from pydantic!=1.8,!=1.8.1,<3.0.0,>=1.7.4->spacy<3.8.0,>=3.7.2->en-core-web-sm==3.7.1) (0.6.0)\n",
      "Requirement already satisfied: pydantic-core==2.14.6 in c:\\users\\sridevideepa\\anaconda3new\\lib\\site-packages (from pydantic!=1.8,!=1.8.1,<3.0.0,>=1.7.4->spacy<3.8.0,>=3.7.2->en-core-web-sm==3.7.1) (2.14.6)\n",
      "Requirement already satisfied: typing-extensions>=4.6.1 in c:\\users\\sridevideepa\\anaconda3new\\lib\\site-packages (from pydantic!=1.8,!=1.8.1,<3.0.0,>=1.7.4->spacy<3.8.0,>=3.7.2->en-core-web-sm==3.7.1) (4.9.0)\n",
      "Requirement already satisfied: charset-normalizer<4,>=2 in c:\\users\\sridevideepa\\anaconda3new\\lib\\site-packages (from requests<3.0.0,>=2.13.0->spacy<3.8.0,>=3.7.2->en-core-web-sm==3.7.1) (2.0.4)\n",
      "Requirement already satisfied: idna<4,>=2.5 in c:\\users\\sridevideepa\\anaconda3new\\lib\\site-packages (from requests<3.0.0,>=2.13.0->spacy<3.8.0,>=3.7.2->en-core-web-sm==3.7.1) (3.4)\n",
      "Requirement already satisfied: urllib3<1.27,>=1.21.1 in c:\\users\\sridevideepa\\anaconda3new\\lib\\site-packages (from requests<3.0.0,>=2.13.0->spacy<3.8.0,>=3.7.2->en-core-web-sm==3.7.1) (1.26.16)\n",
      "Requirement already satisfied: certifi>=2017.4.17 in c:\\users\\sridevideepa\\anaconda3new\\lib\\site-packages (from requests<3.0.0,>=2.13.0->spacy<3.8.0,>=3.7.2->en-core-web-sm==3.7.1) (2023.5.7)\n",
      "Requirement already satisfied: blis<0.8.0,>=0.7.8 in c:\\users\\sridevideepa\\anaconda3new\\lib\\site-packages (from thinc<8.3.0,>=8.1.8->spacy<3.8.0,>=3.7.2->en-core-web-sm==3.7.1) (0.7.11)\n",
      "Requirement already satisfied: confection<1.0.0,>=0.0.1 in c:\\users\\sridevideepa\\anaconda3new\\lib\\site-packages (from thinc<8.3.0,>=8.1.8->spacy<3.8.0,>=3.7.2->en-core-web-sm==3.7.1) (0.1.4)\n",
      "Requirement already satisfied: colorama in c:\\users\\sridevideepa\\anaconda3new\\lib\\site-packages (from tqdm<5.0.0,>=4.38.0->spacy<3.8.0,>=3.7.2->en-core-web-sm==3.7.1) (0.4.6)\n",
      "Requirement already satisfied: click<9.0.0,>=7.1.1 in c:\\users\\sridevideepa\\anaconda3new\\lib\\site-packages (from typer<0.10.0,>=0.3.0->spacy<3.8.0,>=3.7.2->en-core-web-sm==3.7.1) (8.1.7)\n",
      "Requirement already satisfied: cloudpathlib<0.17.0,>=0.7.0 in c:\\users\\sridevideepa\\anaconda3new\\lib\\site-packages (from weasel<0.4.0,>=0.1.0->spacy<3.8.0,>=3.7.2->en-core-web-sm==3.7.1) (0.16.0)\n",
      "Requirement already satisfied: MarkupSafe>=2.0 in c:\\users\\sridevideepa\\anaconda3new\\lib\\site-packages (from jinja2->spacy<3.8.0,>=3.7.2->en-core-web-sm==3.7.1) (2.1.1)\n",
      "\u001b[38;5;2m[+] Download and installation successful\u001b[0m\n",
      "You can now load the package via spacy.load('en_core_web_sm')\n"
     ]
    }
   ],
   "source": [
    " !pip install -U spacy\n",
    "!python -m spacy download en_core_web_sm"
   ]
  },
  {
   "cell_type": "code",
   "execution_count": 7,
   "metadata": {
    "colab": {},
    "colab_type": "code",
    "id": "gT1zyYMnZguO"
   },
   "outputs": [],
   "source": [
    "import spacy\n",
    "from spacy.lang.en.stop_words import STOP_WORDS\n",
    "from string import punctuation"
   ]
  },
  {
   "cell_type": "code",
   "execution_count": 32,
   "metadata": {
    "colab": {},
    "colab_type": "code",
    "id": "JrR_ipOKZ4Lp"
   },
   "outputs": [],
   "source": [
    "stopwords = list(STOP_WORDS)"
   ]
  },
  {
   "cell_type": "code",
   "execution_count": 33,
   "metadata": {
    "colab": {},
    "colab_type": "code",
    "id": "PrE3D0S6aC_s"
   },
   "outputs": [],
   "source": [
    "nlp = spacy.load('en_core_web_sm')"
   ]
  },
  {
   "cell_type": "code",
   "execution_count": 34,
   "metadata": {
    "colab": {},
    "colab_type": "code",
    "id": "RntMWU8DaQDm"
   },
   "outputs": [],
   "source": [
    "doc = nlp(text)"
   ]
  },
  {
   "cell_type": "code",
   "execution_count": 35,
   "metadata": {
    "colab": {
     "base_uri": "https://localhost:8080/",
     "height": 54
    },
    "colab_type": "code",
    "id": "Pqre-o8AaXRA",
    "outputId": "b300f8b7-9437-49f2-81f3-08620d946c1e"
   },
   "outputs": [
    {
     "name": "stdout",
     "output_type": "stream",
     "text": [
      "['\\n', 'Water', ',', 'a', 'cornerstone', 'of', 'life', ',', 'holds', 'unparalleled', 'significance', 'in', 'sustaining', 'ecosystems', 'and', 'supporting', 'human', 'existence', '.', '\\n', 'Constituting', 'about', '71', '%', 'of', 'the', 'Earth', \"'s\", 'surface', ',', 'water', 'exists', 'in', 'oceans', ',', 'rivers', ',', 'lakes', ',', 'and', 'underground', 'reservoirs', '.', '\\n', 'Despite', 'its', 'abundance', ',', 'only', 'a', 'small', 'fraction', ',', 'roughly', '2.5', '%', ',', 'is', 'freshwater', ',', 'with', 'the', 'majority', 'locked', 'in', 'glaciers', 'or', 'polar', '\\n', 'ice', 'caps', '.', 'The', 'water', 'cycle', ',', 'an', 'intricate', 'dance', 'of', 'evaporation', ',', 'condensation', ',', 'and', 'precipitation', ',', 'governs', 'the', 'global', 'movement', '\\n', 'of', 'water', '.', 'However', ',', 'human', 'activities', ',', 'industrialization', ',', 'and', 'climate', 'change', 'pose', 'formidable', 'challenges', '.', 'Water', 'scarcity', ',', '\\n', 'pollution', ',', 'and', 'uneven', 'distribution', 'threaten', 'communities', 'worldwide', '.', 'Climate', 'change', 'exacerbates', 'these', 'challenges', ',', 'contributing', '\\n', 'to', 'altered', 'precipitation', 'patterns', ',', 'droughts', ',', 'and', 'more', 'intense', 'storms', '.', 'Regions', 'already', 'grappling', 'with', 'water', 'scarcity', 'face', '\\n', 'increased', 'risks', ',', 'underscoring', 'the', 'urgent', 'need', 'for', 'sustainable', 'water', 'management', '.', 'Efforts', 'to', 'address', 'water', '-', 'related', 'issues', '\\n', 'include', 'advancements', 'in', 'water', 'purification', 'technologies', ',', 'sustainable', 'agricultural', 'practices', ',', 'and', 'conservation', 'initiatives', '.', '\\n', 'Promoting', 'responsible', 'water', 'usage', 'at', 'individual', 'and', 'societal', 'levels', 'is', 'crucial', '.', 'Additionally', ',', 'fostering', 'international', '\\n', 'collaboration', 'is', 'paramount', 'to', 'ensure', 'fair', 'access', 'to', 'this', 'vital', 'resource', '.', 'Education', 'and', 'awareness', 'play', 'pivotal', 'roles', '\\n', 'in', 'shaping', 'a', 'water', '-', 'responsible', 'society', '.', 'Initiatives', 'promoting', 'water', 'conservation', ',', 'pollution', 'control', ',', 'and', 'equitable', '\\n', 'distribution', 'are', 'imperative', '.', 'As', 'we', 'navigate', 'the', 'complex', 'interplay', 'of', 'environmental', ',', 'social', ',', 'and', 'economic', 'factors', ',', 'a', '\\n', 'collective', 'commitment', 'to', 'safeguarding', 'water', 'resources', 'emerges', 'as', 'a', 'linchpin', 'for', 'a', 'sustainable', 'and', 'resilient', 'future', '.', '\\n']\n"
     ]
    }
   ],
   "source": [
    "tokens = [token.text for token in doc]\n",
    "print(tokens)"
   ]
  },
  {
   "cell_type": "code",
   "execution_count": 36,
   "metadata": {
    "colab": {
     "base_uri": "https://localhost:8080/",
     "height": 34
    },
    "colab_type": "code",
    "id": "Tn2Uv-F3HDpw",
    "outputId": "6325b5fd-cc77-4ebd-bf7f-43ca48ed905a"
   },
   "outputs": [
    {
     "data": {
      "text/plain": [
       "'!\"#$%&\\'()*+,-./:;<=>?@[\\\\]^_`{|}~\\n\\n'"
      ]
     },
     "execution_count": 36,
     "metadata": {},
     "output_type": "execute_result"
    }
   ],
   "source": [
    "punctuation = punctuation + '\\n'\n",
    "punctuation"
   ]
  },
  {
   "cell_type": "code",
   "execution_count": 37,
   "metadata": {
    "colab": {},
    "colab_type": "code",
    "id": "huSfsmdrWK84"
   },
   "outputs": [],
   "source": [
    "word_frequencies = {}\n",
    "for word in doc:\n",
    "  if word.text.lower() not in stopwords:\n",
    "    if word.text.lower() not in punctuation:\n",
    "      if word.text not in word_frequencies.keys():\n",
    "        word_frequencies[word.text] = 1\n",
    "      else:\n",
    "        word_frequencies[word.text] += 1"
   ]
  },
  {
   "cell_type": "code",
   "execution_count": 38,
   "metadata": {
    "colab": {
     "base_uri": "https://localhost:8080/",
     "height": 54
    },
    "colab_type": "code",
    "id": "EgiBcbxFXZj2",
    "outputId": "0e337628-198e-4ac5-fd31-3ac152800854"
   },
   "outputs": [
    {
     "name": "stdout",
     "output_type": "stream",
     "text": [
      "{'Water': 2, 'cornerstone': 1, 'life': 1, 'holds': 1, 'unparalleled': 1, 'significance': 1, 'sustaining': 1, 'ecosystems': 1, 'supporting': 1, 'human': 2, 'existence': 1, 'Constituting': 1, '71': 1, 'Earth': 1, 'surface': 1, 'water': 11, 'exists': 1, 'oceans': 1, 'rivers': 1, 'lakes': 1, 'underground': 1, 'reservoirs': 1, 'Despite': 1, 'abundance': 1, 'small': 1, 'fraction': 1, 'roughly': 1, '2.5': 1, 'freshwater': 1, 'majority': 1, 'locked': 1, 'glaciers': 1, 'polar': 1, 'ice': 1, 'caps': 1, 'cycle': 1, 'intricate': 1, 'dance': 1, 'evaporation': 1, 'condensation': 1, 'precipitation': 2, 'governs': 1, 'global': 1, 'movement': 1, 'activities': 1, 'industrialization': 1, 'climate': 1, 'change': 2, 'pose': 1, 'formidable': 1, 'challenges': 2, 'scarcity': 2, 'pollution': 2, 'uneven': 1, 'distribution': 2, 'threaten': 1, 'communities': 1, 'worldwide': 1, 'Climate': 1, 'exacerbates': 1, 'contributing': 1, 'altered': 1, 'patterns': 1, 'droughts': 1, 'intense': 1, 'storms': 1, 'Regions': 1, 'grappling': 1, 'face': 1, 'increased': 1, 'risks': 1, 'underscoring': 1, 'urgent': 1, 'need': 1, 'sustainable': 3, 'management': 1, 'Efforts': 1, 'address': 1, 'related': 1, 'issues': 1, 'include': 1, 'advancements': 1, 'purification': 1, 'technologies': 1, 'agricultural': 1, 'practices': 1, 'conservation': 2, 'initiatives': 1, 'Promoting': 1, 'responsible': 2, 'usage': 1, 'individual': 1, 'societal': 1, 'levels': 1, 'crucial': 1, 'Additionally': 1, 'fostering': 1, 'international': 1, 'collaboration': 1, 'paramount': 1, 'ensure': 1, 'fair': 1, 'access': 1, 'vital': 1, 'resource': 1, 'Education': 1, 'awareness': 1, 'play': 1, 'pivotal': 1, 'roles': 1, 'shaping': 1, 'society': 1, 'Initiatives': 1, 'promoting': 1, 'control': 1, 'equitable': 1, 'imperative': 1, 'navigate': 1, 'complex': 1, 'interplay': 1, 'environmental': 1, 'social': 1, 'economic': 1, 'factors': 1, 'collective': 1, 'commitment': 1, 'safeguarding': 1, 'resources': 1, 'emerges': 1, 'linchpin': 1, 'resilient': 1, 'future': 1}\n"
     ]
    }
   ],
   "source": [
    "print(word_frequencies)"
   ]
  },
  {
   "cell_type": "code",
   "execution_count": 39,
   "metadata": {
    "colab": {},
    "colab_type": "code",
    "id": "59QpWTlkX6UC"
   },
   "outputs": [],
   "source": [
    "max_frequency = max(word_frequencies.values())"
   ]
  },
  {
   "cell_type": "code",
   "execution_count": 40,
   "metadata": {
    "colab": {
     "base_uri": "https://localhost:8080/",
     "height": 34
    },
    "colab_type": "code",
    "id": "oIQGF1vAYGoD",
    "outputId": "f72c0f9a-4d57-44bf-ca63-1a0fc8b87d3b"
   },
   "outputs": [
    {
     "data": {
      "text/plain": [
       "11"
      ]
     },
     "execution_count": 40,
     "metadata": {},
     "output_type": "execute_result"
    }
   ],
   "source": [
    "max_frequency"
   ]
  },
  {
   "cell_type": "code",
   "execution_count": 41,
   "metadata": {
    "colab": {},
    "colab_type": "code",
    "id": "Gx_S5rRXYX2H"
   },
   "outputs": [],
   "source": [
    "for word in word_frequencies.keys():\n",
    "  word_frequencies[word] = word_frequencies[word]/max_frequency"
   ]
  },
  {
   "cell_type": "code",
   "execution_count": 42,
   "metadata": {
    "colab": {
     "base_uri": "https://localhost:8080/",
     "height": 54
    },
    "colab_type": "code",
    "id": "H0QbAJA5YuG0",
    "outputId": "5816a67b-488e-43f5-c267-e51df1194828"
   },
   "outputs": [
    {
     "name": "stdout",
     "output_type": "stream",
     "text": [
      "{'Water': 0.18181818181818182, 'cornerstone': 0.09090909090909091, 'life': 0.09090909090909091, 'holds': 0.09090909090909091, 'unparalleled': 0.09090909090909091, 'significance': 0.09090909090909091, 'sustaining': 0.09090909090909091, 'ecosystems': 0.09090909090909091, 'supporting': 0.09090909090909091, 'human': 0.18181818181818182, 'existence': 0.09090909090909091, 'Constituting': 0.09090909090909091, '71': 0.09090909090909091, 'Earth': 0.09090909090909091, 'surface': 0.09090909090909091, 'water': 1.0, 'exists': 0.09090909090909091, 'oceans': 0.09090909090909091, 'rivers': 0.09090909090909091, 'lakes': 0.09090909090909091, 'underground': 0.09090909090909091, 'reservoirs': 0.09090909090909091, 'Despite': 0.09090909090909091, 'abundance': 0.09090909090909091, 'small': 0.09090909090909091, 'fraction': 0.09090909090909091, 'roughly': 0.09090909090909091, '2.5': 0.09090909090909091, 'freshwater': 0.09090909090909091, 'majority': 0.09090909090909091, 'locked': 0.09090909090909091, 'glaciers': 0.09090909090909091, 'polar': 0.09090909090909091, 'ice': 0.09090909090909091, 'caps': 0.09090909090909091, 'cycle': 0.09090909090909091, 'intricate': 0.09090909090909091, 'dance': 0.09090909090909091, 'evaporation': 0.09090909090909091, 'condensation': 0.09090909090909091, 'precipitation': 0.18181818181818182, 'governs': 0.09090909090909091, 'global': 0.09090909090909091, 'movement': 0.09090909090909091, 'activities': 0.09090909090909091, 'industrialization': 0.09090909090909091, 'climate': 0.09090909090909091, 'change': 0.18181818181818182, 'pose': 0.09090909090909091, 'formidable': 0.09090909090909091, 'challenges': 0.18181818181818182, 'scarcity': 0.18181818181818182, 'pollution': 0.18181818181818182, 'uneven': 0.09090909090909091, 'distribution': 0.18181818181818182, 'threaten': 0.09090909090909091, 'communities': 0.09090909090909091, 'worldwide': 0.09090909090909091, 'Climate': 0.09090909090909091, 'exacerbates': 0.09090909090909091, 'contributing': 0.09090909090909091, 'altered': 0.09090909090909091, 'patterns': 0.09090909090909091, 'droughts': 0.09090909090909091, 'intense': 0.09090909090909091, 'storms': 0.09090909090909091, 'Regions': 0.09090909090909091, 'grappling': 0.09090909090909091, 'face': 0.09090909090909091, 'increased': 0.09090909090909091, 'risks': 0.09090909090909091, 'underscoring': 0.09090909090909091, 'urgent': 0.09090909090909091, 'need': 0.09090909090909091, 'sustainable': 0.2727272727272727, 'management': 0.09090909090909091, 'Efforts': 0.09090909090909091, 'address': 0.09090909090909091, 'related': 0.09090909090909091, 'issues': 0.09090909090909091, 'include': 0.09090909090909091, 'advancements': 0.09090909090909091, 'purification': 0.09090909090909091, 'technologies': 0.09090909090909091, 'agricultural': 0.09090909090909091, 'practices': 0.09090909090909091, 'conservation': 0.18181818181818182, 'initiatives': 0.09090909090909091, 'Promoting': 0.09090909090909091, 'responsible': 0.18181818181818182, 'usage': 0.09090909090909091, 'individual': 0.09090909090909091, 'societal': 0.09090909090909091, 'levels': 0.09090909090909091, 'crucial': 0.09090909090909091, 'Additionally': 0.09090909090909091, 'fostering': 0.09090909090909091, 'international': 0.09090909090909091, 'collaboration': 0.09090909090909091, 'paramount': 0.09090909090909091, 'ensure': 0.09090909090909091, 'fair': 0.09090909090909091, 'access': 0.09090909090909091, 'vital': 0.09090909090909091, 'resource': 0.09090909090909091, 'Education': 0.09090909090909091, 'awareness': 0.09090909090909091, 'play': 0.09090909090909091, 'pivotal': 0.09090909090909091, 'roles': 0.09090909090909091, 'shaping': 0.09090909090909091, 'society': 0.09090909090909091, 'Initiatives': 0.09090909090909091, 'promoting': 0.09090909090909091, 'control': 0.09090909090909091, 'equitable': 0.09090909090909091, 'imperative': 0.09090909090909091, 'navigate': 0.09090909090909091, 'complex': 0.09090909090909091, 'interplay': 0.09090909090909091, 'environmental': 0.09090909090909091, 'social': 0.09090909090909091, 'economic': 0.09090909090909091, 'factors': 0.09090909090909091, 'collective': 0.09090909090909091, 'commitment': 0.09090909090909091, 'safeguarding': 0.09090909090909091, 'resources': 0.09090909090909091, 'emerges': 0.09090909090909091, 'linchpin': 0.09090909090909091, 'resilient': 0.09090909090909091, 'future': 0.09090909090909091}\n"
     ]
    }
   ],
   "source": [
    "print(word_frequencies)"
   ]
  },
  {
   "cell_type": "code",
   "execution_count": 43,
   "metadata": {
    "colab": {
     "base_uri": "https://localhost:8080/",
     "height": 224
    },
    "colab_type": "code",
    "id": "d9vbQAUDZCUV",
    "outputId": "f6586585-addb-46e3-8d4f-c8e38edb5baf"
   },
   "outputs": [
    {
     "name": "stdout",
     "output_type": "stream",
     "text": [
      "[\n",
      "Water, a cornerstone of life, holds unparalleled significance in sustaining ecosystems and supporting human existence.\n",
      ", Constituting about 71% of the Earth's surface, water exists in oceans, rivers, lakes, and underground reservoirs. \n",
      ", Despite its abundance, only a small fraction, roughly 2.5%, is freshwater, with the majority locked in glaciers or polar\n",
      "ice caps., The water cycle, an intricate dance of evaporation, condensation, and precipitation, governs the global movement \n",
      "of water., However, human activities, industrialization, and climate change pose formidable challenges., Water scarcity, \n",
      "pollution, and uneven distribution threaten communities worldwide., Climate change exacerbates these challenges, contributing \n",
      "to altered precipitation patterns, droughts, and more intense storms., Regions already grappling with water scarcity face \n",
      "increased risks, underscoring the urgent need for sustainable water management., Efforts to address water-related issues \n",
      "include advancements in water purification technologies, sustainable agricultural practices, and conservation initiatives. \n",
      ", Promoting responsible water usage at individual and societal levels is crucial., Additionally, fostering international \n",
      "collaboration is paramount to ensure fair access to this vital resource., Education and awareness play pivotal roles \n",
      "in shaping a water-responsible society., Initiatives promoting water conservation, pollution control, and equitable \n",
      "distribution are imperative., As we navigate the complex interplay of environmental, social, and economic factors, a \n",
      "collective commitment to safeguarding water resources emerges as a linchpin for a sustainable and resilient future.\n",
      "]\n"
     ]
    }
   ],
   "source": [
    "sentence_tokens = [sent for sent in doc.sents]\n",
    "print(sentence_tokens)"
   ]
  },
  {
   "cell_type": "code",
   "execution_count": 44,
   "metadata": {
    "colab": {},
    "colab_type": "code",
    "id": "-3Ee54JWZk5G"
   },
   "outputs": [],
   "source": [
    "sentence_scores = {}\n",
    "for sent in sentence_tokens:\n",
    "  for word in sent:\n",
    "    if word.text.lower() in word_frequencies.keys():\n",
    "      if sent not in sentence_scores.keys():\n",
    "        sentence_scores[sent] = word_frequencies[word.text.lower()]\n",
    "      else:\n",
    "        sentence_scores[sent] += word_frequencies[word.text.lower()]\n"
   ]
  },
  {
   "cell_type": "code",
   "execution_count": 45,
   "metadata": {
    "colab": {
     "base_uri": "https://localhost:8080/",
     "height": 394
    },
    "colab_type": "code",
    "id": "eHuAYodnIg5I",
    "outputId": "5ad12dd5-1e46-4fc4-ef01-d3fd682bd359"
   },
   "outputs": [
    {
     "data": {
      "text/plain": [
       "{\n",
       " Water, a cornerstone of life, holds unparalleled significance in sustaining ecosystems and supporting human existence.: 1.9999999999999993,\n",
       " Constituting about 71% of the Earth's surface, water exists in oceans, rivers, lakes, and underground reservoirs. : 1.7272727272727268,\n",
       " Despite its abundance, only a small fraction, roughly 2.5%, is freshwater, with the majority locked in glaciers or polar\n",
       " ice caps.: 1.090909090909091,\n",
       " The water cycle, an intricate dance of evaporation, condensation, and precipitation, governs the global movement \n",
       " of water.: 2.9090909090909083,\n",
       " However, human activities, industrialization, and climate change pose formidable challenges.: 1.0000000000000002,\n",
       " Water scarcity, \n",
       " pollution, and uneven distribution threaten communities worldwide.: 1.909090909090909,\n",
       " Climate change exacerbates these challenges, contributing \n",
       " to altered precipitation patterns, droughts, and more intense storms.: 1.2727272727272725,\n",
       " Regions already grappling with water scarcity face \n",
       " increased risks, underscoring the urgent need for sustainable water management.: 3.181818181818181,\n",
       " Efforts to address water-related issues \n",
       " include advancements in water purification technologies, sustainable agricultural practices, and conservation initiatives. : 3.3636363636363624,\n",
       " Promoting responsible water usage at individual and societal levels is crucial.: 1.7272727272727268,\n",
       " Additionally, fostering international \n",
       " collaboration is paramount to ensure fair access to this vital resource.: 0.8181818181818183,\n",
       " Education and awareness play pivotal roles \n",
       " in shaping a water-responsible society.: 1.7272727272727273,\n",
       " Initiatives promoting water conservation, pollution control, and equitable \n",
       " distribution are imperative.: 2.0,\n",
       " As we navigate the complex interplay of environmental, social, and economic factors, a \n",
       " collective commitment to safeguarding water resources emerges as a linchpin for a sustainable and resilient future.: 2.636363636363636}"
      ]
     },
     "execution_count": 45,
     "metadata": {},
     "output_type": "execute_result"
    }
   ],
   "source": [
    "sentence_scores"
   ]
  },
  {
   "cell_type": "code",
   "execution_count": 46,
   "metadata": {
    "colab": {},
    "colab_type": "code",
    "id": "-8BICcjZJCpU"
   },
   "outputs": [],
   "source": [
    "from heapq import nlargest"
   ]
  },
  {
   "cell_type": "code",
   "execution_count": 47,
   "metadata": {
    "colab": {
     "base_uri": "https://localhost:8080/",
     "height": 34
    },
    "colab_type": "code",
    "id": "n7QOpoldJTcY",
    "outputId": "0c98ff90-aff9-4ad9-edc1-602b161a5b26"
   },
   "outputs": [
    {
     "data": {
      "text/plain": [
       "4"
      ]
     },
     "execution_count": 47,
     "metadata": {},
     "output_type": "execute_result"
    }
   ],
   "source": [
    "select_length = int(len(sentence_tokens)*0.3)\n",
    "select_length"
   ]
  },
  {
   "cell_type": "code",
   "execution_count": 48,
   "metadata": {
    "colab": {},
    "colab_type": "code",
    "id": "0qYYWV82JygM"
   },
   "outputs": [],
   "source": [
    "summary = nlargest(select_length, sentence_scores, key = sentence_scores.get)"
   ]
  },
  {
   "cell_type": "code",
   "execution_count": 49,
   "metadata": {
    "colab": {
     "base_uri": "https://localhost:8080/",
     "height": 156
    },
    "colab_type": "code",
    "id": "TR5wQN6UKDrt",
    "outputId": "82a53ef6-31ab-400e-a51e-b80a7fcfb443"
   },
   "outputs": [
    {
     "data": {
      "text/plain": [
       "[Efforts to address water-related issues \n",
       " include advancements in water purification technologies, sustainable agricultural practices, and conservation initiatives. ,\n",
       " Regions already grappling with water scarcity face \n",
       " increased risks, underscoring the urgent need for sustainable water management.,\n",
       " The water cycle, an intricate dance of evaporation, condensation, and precipitation, governs the global movement \n",
       " of water.,\n",
       " As we navigate the complex interplay of environmental, social, and economic factors, a \n",
       " collective commitment to safeguarding water resources emerges as a linchpin for a sustainable and resilient future.]"
      ]
     },
     "execution_count": 49,
     "metadata": {},
     "output_type": "execute_result"
    }
   ],
   "source": [
    "summary"
   ]
  },
  {
   "cell_type": "code",
   "execution_count": 50,
   "metadata": {
    "colab": {},
    "colab_type": "code",
    "id": "k3cGqkqaKWnT"
   },
   "outputs": [],
   "source": [
    "final_summary = [word.text for word in summary]"
   ]
  },
  {
   "cell_type": "code",
   "execution_count": 51,
   "metadata": {
    "colab": {},
    "colab_type": "code",
    "id": "1pw4ElbUKpMB"
   },
   "outputs": [],
   "source": [
    "summary = ' '.join(final_summary)"
   ]
  },
  {
   "cell_type": "code",
   "execution_count": 52,
   "metadata": {
    "colab": {
     "base_uri": "https://localhost:8080/",
     "height": 224
    },
    "colab_type": "code",
    "id": "Wa66EgbzLIgR",
    "outputId": "a72e4c9e-697f-4ed1-d987-3e966a6ca086"
   },
   "outputs": [
    {
     "name": "stdout",
     "output_type": "stream",
     "text": [
      "\n",
      "Water, a cornerstone of life, holds unparalleled significance in sustaining ecosystems and supporting human existence.\n",
      "Constituting about 71% of the Earth's surface, water exists in oceans, rivers, lakes, and underground reservoirs. \n",
      "Despite its abundance, only a small fraction, roughly 2.5%, is freshwater, with the majority locked in glaciers or polar\n",
      "ice caps.The water cycle, an intricate dance of evaporation, condensation, and precipitation, governs the global movement \n",
      "of water. However, human activities, industrialization, and climate change pose formidable challenges. Water scarcity, \n",
      "pollution, and uneven distribution threaten communities worldwide. Climate change exacerbates these challenges, contributing \n",
      "to altered precipitation patterns, droughts, and more intense storms. Regions already grappling with water scarcity face \n",
      "increased risks, underscoring the urgent need for sustainable water management. Efforts to address water-related issues \n",
      "include advancements in water purification technologies, sustainable agricultural practices, and conservation initiatives. \n",
      "Promoting responsible water usage at individual and societal levels is crucial. Additionally, fostering international \n",
      "collaboration is paramount to ensure fair access to this vital resource. Education and awareness play pivotal roles \n",
      "in shaping a water-responsible society. Initiatives promoting water conservation, pollution control, and equitable \n",
      "distribution are imperative. As we navigate the complex interplay of environmental, social, and economic factors, a \n",
      "collective commitment to safeguarding water resources emerges as a linchpin for a sustainable and resilient future.\n",
      "\n"
     ]
    }
   ],
   "source": [
    "print(text)"
   ]
  },
  {
   "cell_type": "code",
   "execution_count": 53,
   "metadata": {
    "colab": {
     "base_uri": "https://localhost:8080/",
     "height": 122
    },
    "colab_type": "code",
    "id": "no_-dxurKz1c",
    "outputId": "c3207863-71b2-40f0-b613-2694811d7933"
   },
   "outputs": [
    {
     "name": "stdout",
     "output_type": "stream",
     "text": [
      "Efforts to address water-related issues \n",
      "include advancements in water purification technologies, sustainable agricultural practices, and conservation initiatives. \n",
      " Regions already grappling with water scarcity face \n",
      "increased risks, underscoring the urgent need for sustainable water management. The water cycle, an intricate dance of evaporation, condensation, and precipitation, governs the global movement \n",
      "of water. As we navigate the complex interplay of environmental, social, and economic factors, a \n",
      "collective commitment to safeguarding water resources emerges as a linchpin for a sustainable and resilient future.\n",
      "\n"
     ]
    }
   ],
   "source": [
    "print(summary)"
   ]
  },
  {
   "cell_type": "code",
   "execution_count": null,
   "metadata": {},
   "outputs": [],
   "source": []
  }
 ],
 "metadata": {
  "colab": {
   "name": "Text_Summarization.ipynb",
   "provenance": []
  },
  "kernelspec": {
   "display_name": "Python 3 (ipykernel)",
   "language": "python",
   "name": "python3"
  },
  "language_info": {
   "codemirror_mode": {
    "name": "ipython",
    "version": 3
   },
   "file_extension": ".py",
   "mimetype": "text/x-python",
   "name": "python",
   "nbconvert_exporter": "python",
   "pygments_lexer": "ipython3",
   "version": "3.11.3"
  }
 },
 "nbformat": 4,
 "nbformat_minor": 1
}
